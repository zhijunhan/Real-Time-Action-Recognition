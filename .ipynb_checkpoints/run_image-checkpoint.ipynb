{
 "cells": [
  {
   "cell_type": "code",
   "execution_count": null,
   "metadata": {},
   "outputs": [],
   "source": [
    "import argparse\n",
    "import logging\n",
    "import time\n",
    "import sys\n",
    "\n",
    "import cv2\n",
    "import numpy as np\n",
    "\n",
    "from pose.estimator import TfPoseEstimator\n",
    "from pose.networks import get_graph_path, model_wh\n",
    "\n",
    "from utils.sort import Sort\n",
    "from utils.actions import actionPredictor\n",
    "from utils.joint_preprocess import *\n",
    "from utils import common\n",
    "\n",
    "import settings\n",
    "\n",
    "import matplotlib.pyplot as plt"
   ]
  },
  {
   "cell_type": "code",
   "execution_count": null,
   "metadata": {},
   "outputs": [],
   "source": [
    "# Load NN graph\n",
    "w, h = model_wh('432x368')\n",
    "if w == 0 or h == 0:\n",
    "    e = TfPoseEstimator(get_graph_path('mobilenet_thin'), target_size=(432, 368))\n",
    "else:\n",
    "    e = TfPoseEstimator(get_graph_path('mobilenet_thin'), target_size=(w, h))\n",
    "        \n",
    "# Estimate human poses from a single image    \n",
    "image = common.read_imgfile('./p1.jpg', None, None)\n",
    "if image is None:\n",
    "    logger.error('Image can not be read, path=%s' % image)\n",
    "    sys.exit(-1)"
   ]
  },
  {
   "cell_type": "code",
   "execution_count": null,
   "metadata": {},
   "outputs": [],
   "source": [
    "t = time.time()"
   ]
  },
  {
   "cell_type": "code",
   "execution_count": null,
   "metadata": {},
   "outputs": [],
   "source": [
    "humans = e.inference(image)\n",
    "elapsed = time.time() - t\n",
    "print(elapsed)"
   ]
  },
  {
   "cell_type": "code",
   "execution_count": null,
   "metadata": {},
   "outputs": [],
   "source": [
    "image = TfPoseEstimator.draw_humans(image, humans, imgcopy=False)"
   ]
  },
  {
   "cell_type": "code",
   "execution_count": null,
   "metadata": {},
   "outputs": [],
   "source": [
    "fig = plt.figure()\n",
    "a = fig.add_subplot(2,2,1)\n",
    "a.set_title('Result')\n",
    "plt.imshow(cv2.cvtColor(image, cv2.COLOR_BGR2RGB))"
   ]
  },
  {
   "cell_type": "code",
   "execution_count": null,
   "metadata": {},
   "outputs": [],
   "source": [
    "bgimg = cv2.cvtColor(image.astype(np.uint8), cv2.COLOR_BGR2RGB)\n",
    "bgimg = cv2.resize(bgimg, (e.heatMat.shape[1], e.heatMat.shape[0]), interpolation=cv2.INTER_AREA)\n",
    "\n",
    "a = fig.add_subplot(2,2,2)\n",
    "plt.imshow(bgimg, alpha=0.5)\n",
    "tmp = np.amax(e.heatMat[:, :, :-1], axis=2)\n",
    "plt.imshow(tmp, cmap=plt.cm.gray, alpha=0.5)\n",
    "plt.colorbar()"
   ]
  },
  {
   "cell_type": "code",
   "execution_count": null,
   "metadata": {},
   "outputs": [],
   "source": [
    "tmp2 = e.pafMat.transpose((2, 0, 1))\n",
    "tmp2_odd = np.amax(np.absolute(tmp2[::2, :, :]), axis=0)\n",
    "tmp2_even = np.amax(np.absolute(tmp2[1::2, :, :]), axis=0)\n",
    "\n",
    "a = fig.add_subplot(2,2,3)\n",
    "a.set_title('Vectormap-x')\n",
    "plt.imshow(tmp2_odd, cmap=plt.cm.gray, alpha=0.5)\n",
    "plt.colorbar()"
   ]
  },
  {
   "cell_type": "code",
   "execution_count": null,
   "metadata": {},
   "outputs": [],
   "source": [
    "a = fig.add_subplot(2,2,4)\n",
    "a.set_title('Vectormap-y')\n",
    "plt.imshow(tmp2_even, cmap=plt.cm.gray, alpha=0.5)\n",
    "plt.colorbar()\n",
    "plt.show()"
   ]
  },
  {
   "cell_type": "code",
   "execution_count": null,
   "metadata": {},
   "outputs": [],
   "source": [
    "# Start over with detailed plotting\n",
    "sys.modules[__name__].__dict__.clear()"
   ]
  },
  {
   "cell_type": "code",
   "execution_count": 1,
   "metadata": {},
   "outputs": [
    {
     "ename": "ImportError",
     "evalue": "No module named 'settings'",
     "output_type": "error",
     "traceback": [
      "\u001b[0;31m---------------------------------------------------------------------------\u001b[0m",
      "\u001b[0;31mImportError\u001b[0m                               Traceback (most recent call last)",
      "\u001b[0;32m<ipython-input-1-189f46ee58b1>\u001b[0m in \u001b[0;36m<module>\u001b[0;34m\u001b[0m\n\u001b[1;32m     15\u001b[0m \u001b[0;32mfrom\u001b[0m \u001b[0mutils\u001b[0m \u001b[0;32mimport\u001b[0m \u001b[0mcommon\u001b[0m\u001b[0;34m\u001b[0m\u001b[0m\n\u001b[1;32m     16\u001b[0m \u001b[0;34m\u001b[0m\u001b[0m\n\u001b[0;32m---> 17\u001b[0;31m \u001b[0;32mimport\u001b[0m \u001b[0msettings\u001b[0m\u001b[0;34m\u001b[0m\u001b[0m\n\u001b[0m\u001b[1;32m     18\u001b[0m \u001b[0;34m\u001b[0m\u001b[0m\n\u001b[1;32m     19\u001b[0m \u001b[0;32mimport\u001b[0m \u001b[0mmatplotlib\u001b[0m\u001b[0;34m.\u001b[0m\u001b[0mpyplot\u001b[0m \u001b[0;32mas\u001b[0m \u001b[0mplt\u001b[0m\u001b[0;34m\u001b[0m\u001b[0m\n",
      "\u001b[0;31mImportError\u001b[0m: No module named 'settings'"
     ]
    }
   ],
   "source": [
    "import argparse\n",
    "import logging\n",
    "import time\n",
    "import sys\n",
    "\n",
    "import cv2\n",
    "import numpy as np\n",
    "\n",
    "from pose.estimator import TfPoseEstimator\n",
    "from pose.networks import get_graph_path, model_wh\n",
    "\n",
    "from utils.sort import Sort\n",
    "from actions import *\n",
    "#from utils.joint_preprocess import *\n",
    "from utils import common\n",
    "\n",
    "#import settings\n",
    "\n",
    "import matplotlib.pyplot as plt"
   ]
  },
  {
   "cell_type": "code",
   "execution_count": null,
   "metadata": {},
   "outputs": [],
   "source": [
    "fps_time = 0\n",
    "image = common.read_imgfile('./p1.jpg', None, None)\n",
    "estimator = TfPoseEstimator(get_graph_path('mobilenet_thin'), target_size=(432, 368))"
   ]
  },
  {
   "cell_type": "code",
   "execution_count": null,
   "metadata": {},
   "outputs": [],
   "source": [
    "type(image)\n",
    "image.shape"
   ]
  },
  {
   "cell_type": "code",
   "execution_count": null,
   "metadata": {},
   "outputs": [],
   "source": [
    "tracker = Sort(settings.sort_max_age, settings.sort_min_hit)"
   ]
  },
  {
   "cell_type": "code",
   "execution_count": null,
   "metadata": {},
   "outputs": [],
   "source": [
    "print('tracker type is: ', type(tracker), '\\n')"
   ]
  },
  {
   "cell_type": "code",
   "execution_count": null,
   "metadata": {},
   "outputs": [],
   "source": [
    "humans = estimator.inference(image)"
   ]
  },
  {
   "cell_type": "code",
   "execution_count": null,
   "metadata": {},
   "outputs": [],
   "source": [
    "image_sk = TfPoseEstimator.draw_humans(image, humans, imgcopy=False)\n",
    "#cv2.putText(image, \"FPS: %f\" % (1.0 / (time.time() - fps_time)), (10, 10), cv2.FONT_HERSHEY_SIMPLEX, 0.5, (0, 255, 0), 2)\n",
    "#cv2.imshow('tf-pose-estimation result', image)\n",
    "plt.imshow(cv2.cvtColor(image_sk, cv2.COLOR_BGR2RGB))"
   ]
  },
  {
   "cell_type": "code",
   "execution_count": null,
   "metadata": {},
   "outputs": [],
   "source": [
    "image_tk, joints, bboxes, xcenter, sk = TfPoseEstimator.get_skeleton(image, humans, imgcopy=False)\n",
    "height = image_tk.shape[0]\n",
    "width = image_tk.shape[1]\n",
    "print(width, 'x', height)"
   ]
  },
  {
   "cell_type": "code",
   "execution_count": null,
   "metadata": {},
   "outputs": [],
   "source": [
    "bboxes = np.array(bboxes)\n",
    "print('bboxes type is: ', type(bboxes), '\\n', 'bboxes dim is: ', bboxes.shape, '\\n')\n",
    "print(bboxes, '\\n')\n",
    "\n",
    "#joints = np.array(joints)\n",
    "print('joints type is: ', type(joints), '\\n', 'joints[0] dim is: ', len(joints[0]), '\\n')\n",
    "print(joints[0], '\\n')\n",
    "\n",
    "print('image_tk type is: ', type(image_tk), '\\n')\n",
    "\n",
    "print('xcenter type is: ', type(xcenter), '\\n', 'xcenter dim is: ', len(xcenter), '\\n')\n",
    "print(xcenter[0], '\\n')\n",
    "\n",
    "print('sk type is: ', type(sk), '\\n', 'sk dim is: ', sk.shape, '\\n')\n"
   ]
  },
  {
   "cell_type": "code",
   "execution_count": null,
   "metadata": {},
   "outputs": [],
   "source": [
    "# Skeleton enumeration mapping\n",
    "def locate_skeleton(image, joints):\n",
    "    for i in range(len(joints[0])):\n",
    "        h = int(joints[0][i][0])\n",
    "        w = int(joints[0][i][1])\n",
    "        joint_loc = (h, w)\n",
    "        image = cv2.putText(image, str(i), joint_loc, cv2.FONT_HERSHEY_SIMPLEX, 0.3, (255,255,255), 1, cv2.LINE_AA)\n",
    "    plt.imshow(image)\n",
    "    plt.savefig('locate_skeleton.jpg')"
   ]
  },
  {
   "cell_type": "code",
   "execution_count": null,
   "metadata": {},
   "outputs": [],
   "source": [
    "# To locate joints enumeration\n",
    "locate_skeleton(cv2.cvtColor(image_sk, cv2.COLOR_BGR2RGB), joints)"
   ]
  },
  {
   "cell_type": "code",
   "execution_count": null,
   "metadata": {},
   "outputs": [],
   "source": [
    "result = np.array(bboxes)\n",
    "det = result[:, 0:5]\n",
    "print('width x height: ', width, 'x', height)\n",
    "det[:, 0] = det[:, 0] * width\n",
    "det[:, 1] = det[:, 1] * height\n",
    "det[:, 2] = det[:, 2] * width\n",
    "det[:, 3] = det[:, 3] * height\n",
    "print(det)"
   ]
  },
  {
   "cell_type": "code",
   "execution_count": null,
   "metadata": {},
   "outputs": [],
   "source": [
    "print('tracker is: ', type(tracker))\n",
    "trackers = tracker.update(det)\n",
    "print('trackers are: ', type(trackers), ' with dim of: ', trackers.shape, '\\n')\n",
    "print(trackers)"
   ]
  },
  {
   "cell_type": "code",
   "execution_count": null,
   "metadata": {},
   "outputs": [],
   "source": [
    "xmin = int(trackers[0][0])\n",
    "ymin = int(trackers[0][1])\n",
    "xmax = int(trackers[0][2])\n",
    "ymax = int(trackers[0][3])\n",
    "label = int(trackers[0][4])\n",
    "print(label)"
   ]
  },
  {
   "cell_type": "code",
   "execution_count": null,
   "metadata": {},
   "outputs": [],
   "source": [
    "j = np.argmin(np.array([abs(i - (xmax + xmin) / 2.) for i in xcenter]))\n",
    "print(j)\n",
    "det_joint = joint_filter(joints[j])\n",
    "print('Detect joint: ', det_joint)\n",
    "complete_joint = joint_completion(joint_completion(joints[j]))\n",
    "print('Joints have been detected and completed: ', joints[j] is complete_joint)"
   ]
  },
  {
   "cell_type": "code",
   "execution_count": null,
   "metadata": {},
   "outputs": [],
   "source": [
    "data = {}\n",
    "data[label] = [joints[j]]\n",
    "print(data[label])"
   ]
  },
  {
   "cell_type": "code",
   "execution_count": null,
   "metadata": {},
   "outputs": [],
   "source": [
    "pred = actionPredictor().move_status(data[label])\n",
    "print(pred)\n",
    "type(pred)"
   ]
  },
  {
   "cell_type": "code",
   "execution_count": null,
   "metadata": {},
   "outputs": [],
   "source": [
    "print(settings.move_status[pred])"
   ]
  },
  {
   "cell_type": "code",
   "execution_count": null,
   "metadata": {},
   "outputs": [],
   "source": []
  }
 ],
 "metadata": {
  "kernelspec": {
   "display_name": "Python 3",
   "language": "python",
   "name": "python3"
  },
  "language_info": {
   "codemirror_mode": {
    "name": "ipython",
    "version": 3
   },
   "file_extension": ".py",
   "mimetype": "text/x-python",
   "name": "python",
   "nbconvert_exporter": "python",
   "pygments_lexer": "ipython3",
   "version": "3.5.2"
  }
 },
 "nbformat": 4,
 "nbformat_minor": 2
}
